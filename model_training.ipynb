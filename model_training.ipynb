{
 "cells": [
  {
   "cell_type": "code",
   "execution_count": 1,
   "id": "5756ae4f",
   "metadata": {},
   "outputs": [
    {
     "name": "stdout",
     "output_type": "stream",
     "text": [
      "d:\\My_Project\\ML_DL\\Coins_detection\n"
     ]
    }
   ],
   "source": [
    "import os\n",
    "HOME = os.getcwd()\n",
    "print(HOME)"
   ]
  },
  {
   "cell_type": "code",
   "execution_count": 2,
   "id": "8818d244",
   "metadata": {},
   "outputs": [
    {
     "name": "stdout",
     "output_type": "stream",
     "text": [
      "d:\\My_Project\\ML_DL\\Coins_detection\\datasets\n"
     ]
    },
    {
     "name": "stderr",
     "output_type": "stream",
     "text": [
      "C:\\Users\\nattaponga\\AppData\\Roaming\\Python\\Python312\\site-packages\\IPython\\core\\magics\\osm.py:417: UserWarning: This is now an optional IPython functionality, setting dhist requires you to install the `pickleshare` library.\n",
      "  self.shell.db['dhist'] = compress_dhist(dhist)[-100:]\n"
     ]
    }
   ],
   "source": [
    "!mkdir -p \"{HOME}/datasets\"\n",
    "%cd \"{HOME}/datasets\""
   ]
  },
  {
   "cell_type": "code",
   "execution_count": 3,
   "id": "9b444913",
   "metadata": {},
   "outputs": [
    {
     "name": "stdout",
     "output_type": "stream",
     "text": [
      "loading Roboflow workspace...\n",
      "loading Roboflow project...\n"
     ]
    },
    {
     "name": "stderr",
     "output_type": "stream",
     "text": [
      "Downloading Dataset Version Zip in Coins_dataset-1 to yolov8:: 100%|██████████| 51734/51734 [00:07<00:00, 6996.93it/s] "
     ]
    },
    {
     "name": "stdout",
     "output_type": "stream",
     "text": [
      "\n"
     ]
    },
    {
     "name": "stderr",
     "output_type": "stream",
     "text": [
      "\n",
      "Extracting Dataset Version Zip to Coins_dataset-1 in yolov8:: 100%|██████████| 112/112 [00:00<00:00, 688.85it/s]\n"
     ]
    }
   ],
   "source": [
    "#pip install roboflow\n",
    "\n",
    "from roboflow import Roboflow\n",
    "rf = Roboflow(api_key=\"fvigZ5hqs4qj8oqbjdTj\")\n",
    "project = rf.workspace(\"model-daesx\").project(\"coins_dataset-urhcc\")\n",
    "version = project.version(1)\n",
    "dataset = version.download(\"yolov8\")\n",
    "                "
   ]
  },
  {
   "cell_type": "code",
   "execution_count": 5,
   "id": "575ced25",
   "metadata": {},
   "outputs": [
    {
     "name": "stdout",
     "output_type": "stream",
     "text": [
      "d:\\My_Project\\ML_DL\\Coins_detection\\datasets\\Coins_dataset-1\n"
     ]
    }
   ],
   "source": [
    "print(dataset.location)\n"
   ]
  },
  {
   "cell_type": "code",
   "execution_count": null,
   "id": "c1216b36",
   "metadata": {},
   "outputs": [],
   "source": [
    "import ultralytics\n",
    "from ultralytics import YOLO\n",
    "%cd \"{HOME}\"\n",
    "\n",
    "\n",
    "#yolo task=detect mode=train model=yolov8s.pt data=\"d:/My_Project/ML_DL/Coins_detection/datasets/Coins_dataset-1/data.yaml\" epochs=25 imgsz=800 plots=True"
   ]
  },
  {
   "cell_type": "markdown",
   "id": "dda701fd",
   "metadata": {},
   "source": []
  }
 ],
 "metadata": {
  "kernelspec": {
   "display_name": "Python 3",
   "language": "python",
   "name": "python3"
  },
  "language_info": {
   "codemirror_mode": {
    "name": "ipython",
    "version": 3
   },
   "file_extension": ".py",
   "mimetype": "text/x-python",
   "name": "python",
   "nbconvert_exporter": "python",
   "pygments_lexer": "ipython3",
   "version": "3.12.2"
  }
 },
 "nbformat": 4,
 "nbformat_minor": 5
}
